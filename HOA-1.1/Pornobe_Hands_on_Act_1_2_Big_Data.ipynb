{
  "nbformat": 4,
  "nbformat_minor": 0,
  "metadata": {
    "colab": {
      "provenance": [],
      "include_colab_link": true
    },
    "kernelspec": {
      "name": "python3",
      "display_name": "Python 3"
    },
    "language_info": {
      "name": "python"
    }
  },
  "cells": [
    {
      "cell_type": "markdown",
      "metadata": {
        "id": "view-in-github",
        "colab_type": "text"
      },
      "source": [
        "<a href=\"https://colab.research.google.com/github/reue-lly/big-data-engineering/blob/main/HOA-1.1/Pornobe_Hands_on_Act_1_2_Big_Data.ipynb\" target=\"_parent\"><img src=\"https://colab.research.google.com/assets/colab-badge.svg\" alt=\"Open In Colab\"/></a>"
      ]
    },
    {
      "cell_type": "markdown",
      "source": [
        "## Pornobe, Reuel Christian, M.\n",
        "\n",
        "---\n",
        "\n"
      ],
      "metadata": {
        "id": "M4RN0Pi0x_jE"
      }
    },
    {
      "cell_type": "markdown",
      "source": [
        "#Procedure\n"
      ],
      "metadata": {
        "id": "fSRiOJ3FMzz7"
      }
    },
    {
      "cell_type": "code",
      "source": [
        "from google.colab import drive\n",
        "drive.mount('/content/drive')"
      ],
      "metadata": {
        "colab": {
          "base_uri": "https://localhost:8080/"
        },
        "id": "eM-Rh6Pmxno1",
        "outputId": "438c52b2-7cc4-49f4-aa67-9fdc8e843c3e"
      },
      "execution_count": 93,
      "outputs": [
        {
          "output_type": "stream",
          "name": "stdout",
          "text": [
            "Drive already mounted at /content/drive; to attempt to forcibly remount, call drive.mount(\"/content/drive\", force_remount=True).\n"
          ]
        }
      ]
    },
    {
      "cell_type": "code",
      "source": [
        "from pyspark.sql import SparkSession\n",
        "spark = SparkSession.builder.appName(\"AdvancedDFOps\").getOrCreate()\n"
      ],
      "metadata": {
        "id": "ClK0C7u086RN"
      },
      "execution_count": 95,
      "outputs": []
    },
    {
      "cell_type": "markdown",
      "source": [
        "Upload the online_retail_ii.csv from Kaggle into your Google Drive.\n",
        "\n",
        "Mount Google Drive in Colab and read the CSV:\n"
      ],
      "metadata": {
        "id": "kX0VAJjC-hbL"
      }
    },
    {
      "cell_type": "code",
      "source": [
        "retail_df = spark.read.csv(\"/content/drive/MyDrive/big-data-engineering/online_retail_II.csv\", header=True, inferSchema=True)\n",
        "retail_df.printSchema()"
      ],
      "metadata": {
        "colab": {
          "base_uri": "https://localhost:8080/"
        },
        "id": "BKNd1ZjW9FJt",
        "outputId": "ffb58267-4b8d-4c8c-acbc-74a2c904a571"
      },
      "execution_count": 96,
      "outputs": [
        {
          "output_type": "stream",
          "name": "stdout",
          "text": [
            "root\n",
            " |-- Invoice: string (nullable = true)\n",
            " |-- StockCode: string (nullable = true)\n",
            " |-- Description: string (nullable = true)\n",
            " |-- Quantity: integer (nullable = true)\n",
            " |-- InvoiceDate: timestamp (nullable = true)\n",
            " |-- Price: double (nullable = true)\n",
            " |-- Customer ID: double (nullable = true)\n",
            " |-- Country: string (nullable = true)\n",
            "\n"
          ]
        }
      ]
    },
    {
      "cell_type": "markdown",
      "source": [
        "1. Merge data from two years of sales into a single DataFrame.\n",
        "2. First, split the dataset by year:\n",
        "3. Perform a full outer join on the \"Customer ID\" column:"
      ],
      "metadata": {
        "id": "5YDafTUODXgv"
      }
    },
    {
      "cell_type": "code",
      "source": [
        "retail_df.show()"
      ],
      "metadata": {
        "colab": {
          "base_uri": "https://localhost:8080/"
        },
        "id": "f_OCQ9sJgtdg",
        "outputId": "9e0908ec-90d3-4064-a94d-a64e85e4dee2"
      },
      "execution_count": 97,
      "outputs": [
        {
          "output_type": "stream",
          "name": "stdout",
          "text": [
            "+-------+---------+--------------------+--------+-------------------+-----+-----------+--------------+\n",
            "|Invoice|StockCode|         Description|Quantity|        InvoiceDate|Price|Customer ID|       Country|\n",
            "+-------+---------+--------------------+--------+-------------------+-----+-----------+--------------+\n",
            "| 489434|    85048|15CM CHRISTMAS GL...|      12|2009-12-01 07:45:00| 6.95|    13085.0|United Kingdom|\n",
            "| 489434|   79323P|  PINK CHERRY LIGHTS|      12|2009-12-01 07:45:00| 6.75|    13085.0|United Kingdom|\n",
            "| 489434|   79323W| WHITE CHERRY LIGHTS|      12|2009-12-01 07:45:00| 6.75|    13085.0|United Kingdom|\n",
            "| 489434|    22041|\"RECORD FRAME 7\"\"...|      48|2009-12-01 07:45:00|  2.1|    13085.0|United Kingdom|\n",
            "| 489434|    21232|STRAWBERRY CERAMI...|      24|2009-12-01 07:45:00| 1.25|    13085.0|United Kingdom|\n",
            "| 489434|    22064|PINK DOUGHNUT TRI...|      24|2009-12-01 07:45:00| 1.65|    13085.0|United Kingdom|\n",
            "| 489434|    21871| SAVE THE PLANET MUG|      24|2009-12-01 07:45:00| 1.25|    13085.0|United Kingdom|\n",
            "| 489434|    21523|FANCY FONT HOME S...|      10|2009-12-01 07:45:00| 5.95|    13085.0|United Kingdom|\n",
            "| 489435|    22350|           CAT BOWL |      12|2009-12-01 07:46:00| 2.55|    13085.0|United Kingdom|\n",
            "| 489435|    22349|DOG BOWL , CHASIN...|      12|2009-12-01 07:46:00| 3.75|    13085.0|United Kingdom|\n",
            "| 489435|    22195|HEART MEASURING S...|      24|2009-12-01 07:46:00| 1.65|    13085.0|United Kingdom|\n",
            "| 489435|    22353|LUNCHBOX WITH CUT...|      12|2009-12-01 07:46:00| 2.55|    13085.0|United Kingdom|\n",
            "| 489436|   48173C|DOOR MAT BLACK FL...|      10|2009-12-01 09:06:00| 5.95|    13078.0|United Kingdom|\n",
            "| 489436|    21755|LOVE BUILDING BLO...|      18|2009-12-01 09:06:00| 5.45|    13078.0|United Kingdom|\n",
            "| 489436|    21754|HOME BUILDING BLO...|       3|2009-12-01 09:06:00| 5.95|    13078.0|United Kingdom|\n",
            "| 489436|    84879|ASSORTED COLOUR B...|      16|2009-12-01 09:06:00| 1.69|    13078.0|United Kingdom|\n",
            "| 489436|    22119| PEACE WOODEN BLO...|       3|2009-12-01 09:06:00| 6.95|    13078.0|United Kingdom|\n",
            "| 489436|    22142|CHRISTMAS CRAFT W...|      12|2009-12-01 09:06:00| 1.45|    13078.0|United Kingdom|\n",
            "| 489436|    22296|HEART IVORY TRELL...|      12|2009-12-01 09:06:00| 1.65|    13078.0|United Kingdom|\n",
            "| 489436|    22295|HEART FILIGREE DO...|      12|2009-12-01 09:06:00| 1.65|    13078.0|United Kingdom|\n",
            "+-------+---------+--------------------+--------+-------------------+-----+-----------+--------------+\n",
            "only showing top 20 rows\n",
            "\n"
          ]
        }
      ]
    },
    {
      "cell_type": "code",
      "source": [
        "from pyspark.sql.functions import year, col\n",
        "\n",
        "df_2009 = retail_df.filter(year(col(\"InvoiceDate\")) == 2009)\n",
        "df_2010 = retail_df.filter(year(col(\"InvoiceDate\")) == 2010)\n",
        "\n",
        "# Full outer join on Customer ID\n",
        "\n",
        "joined_df = df_2009.join(df_2010, on=[\"Customer ID\"], how=\"full_outer\")\n",
        "# Keep only one \"Customer ID\"\n",
        "\n"
      ],
      "metadata": {
        "id": "85U_ae0S-eR-"
      },
      "execution_count": 98,
      "outputs": []
    },
    {
      "cell_type": "code",
      "source": [
        "df_2009.show()"
      ],
      "metadata": {
        "colab": {
          "base_uri": "https://localhost:8080/"
        },
        "id": "XTC1v2tJL0ce",
        "outputId": "dc24e1fb-c2c1-4bce-badf-bae5a6b8567a"
      },
      "execution_count": 99,
      "outputs": [
        {
          "output_type": "stream",
          "name": "stdout",
          "text": [
            "+-------+---------+--------------------+--------+-------------------+-----+-----------+--------------+\n",
            "|Invoice|StockCode|         Description|Quantity|        InvoiceDate|Price|Customer ID|       Country|\n",
            "+-------+---------+--------------------+--------+-------------------+-----+-----------+--------------+\n",
            "| 489434|    85048|15CM CHRISTMAS GL...|      12|2009-12-01 07:45:00| 6.95|    13085.0|United Kingdom|\n",
            "| 489434|   79323P|  PINK CHERRY LIGHTS|      12|2009-12-01 07:45:00| 6.75|    13085.0|United Kingdom|\n",
            "| 489434|   79323W| WHITE CHERRY LIGHTS|      12|2009-12-01 07:45:00| 6.75|    13085.0|United Kingdom|\n",
            "| 489434|    22041|\"RECORD FRAME 7\"\"...|      48|2009-12-01 07:45:00|  2.1|    13085.0|United Kingdom|\n",
            "| 489434|    21232|STRAWBERRY CERAMI...|      24|2009-12-01 07:45:00| 1.25|    13085.0|United Kingdom|\n",
            "| 489434|    22064|PINK DOUGHNUT TRI...|      24|2009-12-01 07:45:00| 1.65|    13085.0|United Kingdom|\n",
            "| 489434|    21871| SAVE THE PLANET MUG|      24|2009-12-01 07:45:00| 1.25|    13085.0|United Kingdom|\n",
            "| 489434|    21523|FANCY FONT HOME S...|      10|2009-12-01 07:45:00| 5.95|    13085.0|United Kingdom|\n",
            "| 489435|    22350|           CAT BOWL |      12|2009-12-01 07:46:00| 2.55|    13085.0|United Kingdom|\n",
            "| 489435|    22349|DOG BOWL , CHASIN...|      12|2009-12-01 07:46:00| 3.75|    13085.0|United Kingdom|\n",
            "| 489435|    22195|HEART MEASURING S...|      24|2009-12-01 07:46:00| 1.65|    13085.0|United Kingdom|\n",
            "| 489435|    22353|LUNCHBOX WITH CUT...|      12|2009-12-01 07:46:00| 2.55|    13085.0|United Kingdom|\n",
            "| 489436|   48173C|DOOR MAT BLACK FL...|      10|2009-12-01 09:06:00| 5.95|    13078.0|United Kingdom|\n",
            "| 489436|    21755|LOVE BUILDING BLO...|      18|2009-12-01 09:06:00| 5.45|    13078.0|United Kingdom|\n",
            "| 489436|    21754|HOME BUILDING BLO...|       3|2009-12-01 09:06:00| 5.95|    13078.0|United Kingdom|\n",
            "| 489436|    84879|ASSORTED COLOUR B...|      16|2009-12-01 09:06:00| 1.69|    13078.0|United Kingdom|\n",
            "| 489436|    22119| PEACE WOODEN BLO...|       3|2009-12-01 09:06:00| 6.95|    13078.0|United Kingdom|\n",
            "| 489436|    22142|CHRISTMAS CRAFT W...|      12|2009-12-01 09:06:00| 1.45|    13078.0|United Kingdom|\n",
            "| 489436|    22296|HEART IVORY TRELL...|      12|2009-12-01 09:06:00| 1.65|    13078.0|United Kingdom|\n",
            "| 489436|    22295|HEART FILIGREE DO...|      12|2009-12-01 09:06:00| 1.65|    13078.0|United Kingdom|\n",
            "+-------+---------+--------------------+--------+-------------------+-----+-----------+--------------+\n",
            "only showing top 20 rows\n",
            "\n"
          ]
        }
      ]
    },
    {
      "cell_type": "code",
      "source": [
        "df_2010.show()"
      ],
      "metadata": {
        "colab": {
          "base_uri": "https://localhost:8080/"
        },
        "id": "Awv9T_RvL22s",
        "outputId": "bb47bf4c-d674-4c10-bd13-cc35a7dca1b6"
      },
      "execution_count": 100,
      "outputs": [
        {
          "output_type": "stream",
          "name": "stdout",
          "text": [
            "+-------+---------+--------------------+--------+-------------------+-----+-----------+--------------+\n",
            "|Invoice|StockCode|         Description|Quantity|        InvoiceDate|Price|Customer ID|       Country|\n",
            "+-------+---------+--------------------+--------+-------------------+-----+-----------+--------------+\n",
            "| 493410|  TEST001|This is a test pr...|       5|2010-01-04 09:24:00|  4.5|    12346.0|United Kingdom|\n",
            "|C493411|    21539|RETRO SPOTS BUTTE...|      -1|2010-01-04 09:43:00| 4.25|    14590.0|United Kingdom|\n",
            "| 493412|  TEST001|This is a test pr...|       5|2010-01-04 09:53:00|  4.5|    12346.0|United Kingdom|\n",
            "| 493413|    21724|PANDA AND BUNNIES...|       1|2010-01-04 09:54:00| 0.85|       NULL|United Kingdom|\n",
            "| 493413|    84578|ELEPHANT TOY WITH...|       1|2010-01-04 09:54:00| 3.75|       NULL|United Kingdom|\n",
            "| 493413|    21723|ALPHABET HEARTS S...|       1|2010-01-04 09:54:00| 0.85|       NULL|United Kingdom|\n",
            "| 493414|    21844|      RETRO SPOT MUG|      36|2010-01-04 10:28:00| 2.55|    14590.0|United Kingdom|\n",
            "| 493414|    21533|RETRO SPOT LARGE ...|      12|2010-01-04 10:28:00| 4.25|    14590.0|United Kingdom|\n",
            "| 493414|    37508|NEW ENGLAND CERAM...|       2|2010-01-04 10:28:00| 2.55|    14590.0|United Kingdom|\n",
            "| 493414|   35001G|HAND OPEN SHAPE GOLD|       2|2010-01-04 10:28:00| 4.25|    14590.0|United Kingdom|\n",
            "| 493414|    21527|RETRO SPOT TRADIT...|      12|2010-01-04 10:28:00| 6.95|    14590.0|United Kingdom|\n",
            "| 493414|    21531|RETRO SPOT SUGAR ...|      24|2010-01-04 10:28:00|  2.1|    14590.0|United Kingdom|\n",
            "|C493415|    21527|RETRO SPOT TRADIT...|      -3|2010-01-04 10:33:00| 7.95|    14590.0|United Kingdom|\n",
            "|C493426|    22109|FULL ENGLISH BREA...|      -1|2010-01-04 10:41:00| 3.39|    16550.0|United Kingdom|\n",
            "| 493427|    82483|WOOD 2 DRAWER CAB...|       4|2010-01-04 10:43:00| 5.95|    13287.0|United Kingdom|\n",
            "| 493427|    21681|GIANT MEDINA STAM...|       2|2010-01-04 10:43:00| 9.95|    13287.0|United Kingdom|\n",
            "| 493427|    21682|LARGE MEDINA STAM...|       4|2010-01-04 10:43:00| 4.95|    13287.0|United Kingdom|\n",
            "| 493427|   18096C|WHITE ROUND PORCE...|       6|2010-01-04 10:43:00| 2.55|    13287.0|United Kingdom|\n",
            "| 493427|    21577|SAVE THE PLANET C...|       6|2010-01-04 10:43:00| 2.25|    13287.0|United Kingdom|\n",
            "| 493427|    21576|LETS GO SHOPPING ...|       6|2010-01-04 10:43:00| 2.25|    13287.0|United Kingdom|\n",
            "+-------+---------+--------------------+--------+-------------------+-----+-----------+--------------+\n",
            "only showing top 20 rows\n",
            "\n"
          ]
        }
      ]
    },
    {
      "cell_type": "markdown",
      "source": [
        "Union Operations: A union stacks DataFrames vertically but only works if their schemas match exactly in column names, order, and data types."
      ],
      "metadata": {
        "id": "rf7by6s5LY4f"
      }
    },
    {
      "cell_type": "code",
      "source": [
        "union_df = df_2009.union(df_2010)\n"
      ],
      "metadata": {
        "id": "-wKPC4v6_6Oe"
      },
      "execution_count": 101,
      "outputs": []
    },
    {
      "cell_type": "markdown",
      "source": [
        "Advanced Column Operations: Functions like withColumn, year, and struct allow creation of new calculated fields and nested structures without altering the original data."
      ],
      "metadata": {
        "id": "AyOut60aLZdS"
      }
    },
    {
      "cell_type": "code",
      "source": [
        "from pyspark.sql.functions import month, struct\n",
        "\n",
        "retail_df = retail_df.withColumn(\"TotalPrice\", col(\"Quantity\") * col(\"Price\")) \\\n",
        "                     .withColumn(\"Year\", year(col(\"InvoiceDate\"))) \\\n",
        "                     .withColumn(\"Month\", month(col(\"InvoiceDate\"))) \\\n",
        "                     .withColumn(\"ProductInfo\", struct(col(\"StockCode\"), col(\"Description\")))\n"
      ],
      "metadata": {
        "id": "l70jc4sN_-33"
      },
      "execution_count": 102,
      "outputs": []
    },
    {
      "cell_type": "markdown",
      "source": [
        "Working with Arrays & Maps: Aggregating values into arrays or maps enables storing complex, multi-value attributes inside a single DataFrame column.\n",
        "\n"
      ],
      "metadata": {
        "id": "7YJYirS3Lc5D"
      }
    },
    {
      "cell_type": "code",
      "source": [
        "from pyspark.sql.functions import collect_list, create_map\n",
        "\n",
        "products_per_customer = retail_df.groupBy(\"Customer ID\") \\\n",
        "    .agg(collect_list(\"Description\").alias(\"ProductsBought\"))\n",
        "\n",
        "maps_per_customer = retail_df.groupBy(\"Customer ID\") \\\n",
        "    .agg(collect_list(\"StockCode\").alias(\"Codes\"),\n",
        "         collect_list(\"Quantity\").alias(\"Quantities\"))\n"
      ],
      "metadata": {
        "id": "1m3a4skIAACR"
      },
      "execution_count": 103,
      "outputs": []
    },
    {
      "cell_type": "markdown",
      "source": [
        "Aggregations and Analytics: Grouping and using aggregate functions such as sum or window functions enables advanced insights like top customers and time-based trends."
      ],
      "metadata": {
        "id": "vBspjJhOLe0N"
      }
    },
    {
      "cell_type": "code",
      "source": [
        "from pyspark.sql.functions import sum as _sum\n",
        "\n",
        "top_customers = retail_df.groupBy(\"Customer ID\") \\\n",
        "    .agg(_sum(\"TotalPrice\").alias(\"TotalSpent\")) \\\n",
        "    .orderBy(col(\"TotalSpent\").desc()) \\\n",
        "    .limit(5)\n"
      ],
      "metadata": {
        "id": "gkSal_vmABRj"
      },
      "execution_count": 104,
      "outputs": []
    },
    {
      "cell_type": "code",
      "source": [
        "retail_df.show()\n"
      ],
      "metadata": {
        "colab": {
          "base_uri": "https://localhost:8080/"
        },
        "id": "i6IF2wIFLx8v",
        "outputId": "d95a3dcf-0071-4515-e635-e08f78510405"
      },
      "execution_count": 105,
      "outputs": [
        {
          "output_type": "stream",
          "name": "stdout",
          "text": [
            "+-------+---------+--------------------+--------+-------------------+-----+-----------+--------------+------------------+----+-----+--------------------+\n",
            "|Invoice|StockCode|         Description|Quantity|        InvoiceDate|Price|Customer ID|       Country|        TotalPrice|Year|Month|         ProductInfo|\n",
            "+-------+---------+--------------------+--------+-------------------+-----+-----------+--------------+------------------+----+-----+--------------------+\n",
            "| 489434|    85048|15CM CHRISTMAS GL...|      12|2009-12-01 07:45:00| 6.95|    13085.0|United Kingdom|              83.4|2009|   12|{85048, 15CM CHRI...|\n",
            "| 489434|   79323P|  PINK CHERRY LIGHTS|      12|2009-12-01 07:45:00| 6.75|    13085.0|United Kingdom|              81.0|2009|   12|{79323P, PINK CHE...|\n",
            "| 489434|   79323W| WHITE CHERRY LIGHTS|      12|2009-12-01 07:45:00| 6.75|    13085.0|United Kingdom|              81.0|2009|   12|{79323W,  WHITE C...|\n",
            "| 489434|    22041|\"RECORD FRAME 7\"\"...|      48|2009-12-01 07:45:00|  2.1|    13085.0|United Kingdom|100.80000000000001|2009|   12|{22041, \"RECORD F...|\n",
            "| 489434|    21232|STRAWBERRY CERAMI...|      24|2009-12-01 07:45:00| 1.25|    13085.0|United Kingdom|              30.0|2009|   12|{21232, STRAWBERR...|\n",
            "| 489434|    22064|PINK DOUGHNUT TRI...|      24|2009-12-01 07:45:00| 1.65|    13085.0|United Kingdom|39.599999999999994|2009|   12|{22064, PINK DOUG...|\n",
            "| 489434|    21871| SAVE THE PLANET MUG|      24|2009-12-01 07:45:00| 1.25|    13085.0|United Kingdom|              30.0|2009|   12|{21871, SAVE THE ...|\n",
            "| 489434|    21523|FANCY FONT HOME S...|      10|2009-12-01 07:45:00| 5.95|    13085.0|United Kingdom|              59.5|2009|   12|{21523, FANCY FON...|\n",
            "| 489435|    22350|           CAT BOWL |      12|2009-12-01 07:46:00| 2.55|    13085.0|United Kingdom|30.599999999999998|2009|   12|  {22350, CAT BOWL }|\n",
            "| 489435|    22349|DOG BOWL , CHASIN...|      12|2009-12-01 07:46:00| 3.75|    13085.0|United Kingdom|              45.0|2009|   12|{22349, DOG BOWL ...|\n",
            "| 489435|    22195|HEART MEASURING S...|      24|2009-12-01 07:46:00| 1.65|    13085.0|United Kingdom|39.599999999999994|2009|   12|{22195, HEART MEA...|\n",
            "| 489435|    22353|LUNCHBOX WITH CUT...|      12|2009-12-01 07:46:00| 2.55|    13085.0|United Kingdom|30.599999999999998|2009|   12|{22353, LUNCHBOX ...|\n",
            "| 489436|   48173C|DOOR MAT BLACK FL...|      10|2009-12-01 09:06:00| 5.95|    13078.0|United Kingdom|              59.5|2009|   12|{48173C, DOOR MAT...|\n",
            "| 489436|    21755|LOVE BUILDING BLO...|      18|2009-12-01 09:06:00| 5.45|    13078.0|United Kingdom| 98.10000000000001|2009|   12|{21755, LOVE BUIL...|\n",
            "| 489436|    21754|HOME BUILDING BLO...|       3|2009-12-01 09:06:00| 5.95|    13078.0|United Kingdom|             17.85|2009|   12|{21754, HOME BUIL...|\n",
            "| 489436|    84879|ASSORTED COLOUR B...|      16|2009-12-01 09:06:00| 1.69|    13078.0|United Kingdom|             27.04|2009|   12|{84879, ASSORTED ...|\n",
            "| 489436|    22119| PEACE WOODEN BLO...|       3|2009-12-01 09:06:00| 6.95|    13078.0|United Kingdom|             20.85|2009|   12|{22119,  PEACE WO...|\n",
            "| 489436|    22142|CHRISTMAS CRAFT W...|      12|2009-12-01 09:06:00| 1.45|    13078.0|United Kingdom|              17.4|2009|   12|{22142, CHRISTMAS...|\n",
            "| 489436|    22296|HEART IVORY TRELL...|      12|2009-12-01 09:06:00| 1.65|    13078.0|United Kingdom|19.799999999999997|2009|   12|{22296, HEART IVO...|\n",
            "| 489436|    22295|HEART FILIGREE DO...|      12|2009-12-01 09:06:00| 1.65|    13078.0|United Kingdom|19.799999999999997|2009|   12|{22295, HEART FIL...|\n",
            "+-------+---------+--------------------+--------+-------------------+-----+-----------+--------------+------------------+----+-----+--------------------+\n",
            "only showing top 20 rows\n",
            "\n"
          ]
        }
      ]
    },
    {
      "cell_type": "markdown",
      "source": [
        "# **Supplementary Activity**"
      ],
      "metadata": {
        "id": "lojUVRrUxyfN"
      }
    },
    {
      "cell_type": "markdown",
      "source": [
        "### **1. Load the dataset into a DataFrame (retail_df) and display its schema to confirm correct column names and types**"
      ],
      "metadata": {
        "id": "qD8wo8EmtjOe"
      }
    },
    {
      "cell_type": "code",
      "execution_count": 106,
      "metadata": {
        "colab": {
          "base_uri": "https://localhost:8080/"
        },
        "id": "jUJQNVcjrNBK",
        "outputId": "33257066-56c4-4600-c34f-8f72346ad0bf"
      },
      "outputs": [
        {
          "output_type": "stream",
          "name": "stdout",
          "text": [
            "Drive already mounted at /content/drive; to attempt to forcibly remount, call drive.mount(\"/content/drive\", force_remount=True).\n"
          ]
        }
      ],
      "source": [
        "from google.colab import drive\n",
        "drive.mount('/content/drive')"
      ]
    },
    {
      "cell_type": "code",
      "source": [
        "from pyspark.sql import SparkSession\n",
        "spark = SparkSession.builder.appName(\"AdvancedDFOps\").getOrCreate()\n"
      ],
      "metadata": {
        "id": "MvvcnVWnx6_X"
      },
      "execution_count": 107,
      "outputs": []
    },
    {
      "cell_type": "code",
      "source": [
        "retail_df = spark.read.csv(\"/content/drive/MyDrive/big-data-engineering/online_retail_II.csv\", header=True, inferSchema=True)\n",
        "retail_df.printSchema()"
      ],
      "metadata": {
        "colab": {
          "base_uri": "https://localhost:8080/"
        },
        "id": "4oFsf-egsGQ2",
        "outputId": "fcf37ec5-1d40-449b-adb1-05adc585fce0"
      },
      "execution_count": 108,
      "outputs": [
        {
          "output_type": "stream",
          "name": "stdout",
          "text": [
            "root\n",
            " |-- Invoice: string (nullable = true)\n",
            " |-- StockCode: string (nullable = true)\n",
            " |-- Description: string (nullable = true)\n",
            " |-- Quantity: integer (nullable = true)\n",
            " |-- InvoiceDate: timestamp (nullable = true)\n",
            " |-- Price: double (nullable = true)\n",
            " |-- Customer ID: double (nullable = true)\n",
            " |-- Country: string (nullable = true)\n",
            "\n"
          ]
        }
      ]
    },
    {
      "cell_type": "markdown",
      "source": [
        "### 2. **Data Cleaning**"
      ],
      "metadata": {
        "id": "--tMUlZwtyDl"
      }
    },
    {
      "cell_type": "code",
      "source": [
        "from pyspark.sql.functions import col"
      ],
      "metadata": {
        "id": "9GwuC_sz02Sv"
      },
      "execution_count": 109,
      "outputs": []
    },
    {
      "cell_type": "code",
      "source": [
        "# i created a function just for counting null values of a column\n",
        "def countNull(column_name):\n",
        "    null_count = retail_df.filter(col(column_name).isNull()).count()\n",
        "    return null_count"
      ],
      "metadata": {
        "id": "Bi3V2h-N2LoF"
      },
      "execution_count": 110,
      "outputs": []
    },
    {
      "cell_type": "code",
      "source": [
        "print('Null Counts:')\n",
        "print('Customer ID: ',countNull(\"Customer ID\"))\n",
        "print('Invoice: ', countNull(\"Invoice\"))\n",
        "print('Price', countNull(\"Price\"))"
      ],
      "metadata": {
        "colab": {
          "base_uri": "https://localhost:8080/"
        },
        "id": "jxGHVFpX1YUf",
        "outputId": "98295179-69d8-44e3-f5dc-de5fa34ce2bf"
      },
      "execution_count": 111,
      "outputs": [
        {
          "output_type": "stream",
          "name": "stdout",
          "text": [
            "Null Counts:\n",
            "Customer ID:  243007\n",
            "Invoice:  0\n",
            "Price 0\n"
          ]
        }
      ]
    },
    {
      "cell_type": "markdown",
      "source": [
        "#### a. Remove rows with null in \"Customer ID\", \"Invoice\", or \"Price\"."
      ],
      "metadata": {
        "id": "qCXeEqrjt_7U"
      }
    },
    {
      "cell_type": "code",
      "source": [
        "retail_df = retail_df.dropna(subset=[\"Customer ID\", \"Invoice\", \"Price\"])"
      ],
      "metadata": {
        "id": "zJCVXG3rtJ48"
      },
      "execution_count": 112,
      "outputs": []
    },
    {
      "cell_type": "code",
      "source": [
        "print('Null Counts:')\n",
        "print('Customer ID: ',countNull(\"Customer ID\"))\n",
        "print('Invoice: ', countNull(\"Invoice\"))\n",
        "print('Price', countNull(\"Price\"))"
      ],
      "metadata": {
        "colab": {
          "base_uri": "https://localhost:8080/"
        },
        "id": "ZZda0Yye26nC",
        "outputId": "91dda040-52e2-466f-af6b-836f33e8851c"
      },
      "execution_count": 113,
      "outputs": [
        {
          "output_type": "stream",
          "name": "stdout",
          "text": [
            "Null Counts:\n",
            "Customer ID:  0\n",
            "Invoice:  0\n",
            "Price 0\n"
          ]
        }
      ]
    },
    {
      "cell_type": "code",
      "source": [
        "retail_df.show()"
      ],
      "metadata": {
        "colab": {
          "base_uri": "https://localhost:8080/"
        },
        "id": "IEaLiC2j3ymn",
        "outputId": "541722ed-e63b-425a-eb56-f5288b231bf5"
      },
      "execution_count": 114,
      "outputs": [
        {
          "output_type": "stream",
          "name": "stdout",
          "text": [
            "+-------+---------+--------------------+--------+-------------------+-----+-----------+--------------+\n",
            "|Invoice|StockCode|         Description|Quantity|        InvoiceDate|Price|Customer ID|       Country|\n",
            "+-------+---------+--------------------+--------+-------------------+-----+-----------+--------------+\n",
            "| 489434|    85048|15CM CHRISTMAS GL...|      12|2009-12-01 07:45:00| 6.95|    13085.0|United Kingdom|\n",
            "| 489434|   79323P|  PINK CHERRY LIGHTS|      12|2009-12-01 07:45:00| 6.75|    13085.0|United Kingdom|\n",
            "| 489434|   79323W| WHITE CHERRY LIGHTS|      12|2009-12-01 07:45:00| 6.75|    13085.0|United Kingdom|\n",
            "| 489434|    22041|\"RECORD FRAME 7\"\"...|      48|2009-12-01 07:45:00|  2.1|    13085.0|United Kingdom|\n",
            "| 489434|    21232|STRAWBERRY CERAMI...|      24|2009-12-01 07:45:00| 1.25|    13085.0|United Kingdom|\n",
            "| 489434|    22064|PINK DOUGHNUT TRI...|      24|2009-12-01 07:45:00| 1.65|    13085.0|United Kingdom|\n",
            "| 489434|    21871| SAVE THE PLANET MUG|      24|2009-12-01 07:45:00| 1.25|    13085.0|United Kingdom|\n",
            "| 489434|    21523|FANCY FONT HOME S...|      10|2009-12-01 07:45:00| 5.95|    13085.0|United Kingdom|\n",
            "| 489435|    22350|           CAT BOWL |      12|2009-12-01 07:46:00| 2.55|    13085.0|United Kingdom|\n",
            "| 489435|    22349|DOG BOWL , CHASIN...|      12|2009-12-01 07:46:00| 3.75|    13085.0|United Kingdom|\n",
            "| 489435|    22195|HEART MEASURING S...|      24|2009-12-01 07:46:00| 1.65|    13085.0|United Kingdom|\n",
            "| 489435|    22353|LUNCHBOX WITH CUT...|      12|2009-12-01 07:46:00| 2.55|    13085.0|United Kingdom|\n",
            "| 489436|   48173C|DOOR MAT BLACK FL...|      10|2009-12-01 09:06:00| 5.95|    13078.0|United Kingdom|\n",
            "| 489436|    21755|LOVE BUILDING BLO...|      18|2009-12-01 09:06:00| 5.45|    13078.0|United Kingdom|\n",
            "| 489436|    21754|HOME BUILDING BLO...|       3|2009-12-01 09:06:00| 5.95|    13078.0|United Kingdom|\n",
            "| 489436|    84879|ASSORTED COLOUR B...|      16|2009-12-01 09:06:00| 1.69|    13078.0|United Kingdom|\n",
            "| 489436|    22119| PEACE WOODEN BLO...|       3|2009-12-01 09:06:00| 6.95|    13078.0|United Kingdom|\n",
            "| 489436|    22142|CHRISTMAS CRAFT W...|      12|2009-12-01 09:06:00| 1.45|    13078.0|United Kingdom|\n",
            "| 489436|    22296|HEART IVORY TRELL...|      12|2009-12-01 09:06:00| 1.65|    13078.0|United Kingdom|\n",
            "| 489436|    22295|HEART FILIGREE DO...|      12|2009-12-01 09:06:00| 1.65|    13078.0|United Kingdom|\n",
            "+-------+---------+--------------------+--------+-------------------+-----+-----------+--------------+\n",
            "only showing top 20 rows\n",
            "\n"
          ]
        }
      ]
    },
    {
      "cell_type": "markdown",
      "source": [
        "#### b. Filter out transactions where Quantity or Price is less than or equal to zero.\n"
      ],
      "metadata": {
        "id": "0Tct0b8E2C2t"
      }
    },
    {
      "cell_type": "code",
      "source": [
        "retail_df = retail_df.filter((retail_df.Quantity > 0) | (retail_df.Price > 0))"
      ],
      "metadata": {
        "id": "AQWwz44UujL1"
      },
      "execution_count": 117,
      "outputs": []
    },
    {
      "cell_type": "code",
      "source": [
        "retail_df.show()"
      ],
      "metadata": {
        "colab": {
          "base_uri": "https://localhost:8080/"
        },
        "id": "5F0xWUWa5LFo",
        "outputId": "b52bfca8-8006-4b5a-d6df-4d745ee7e68d"
      },
      "execution_count": 118,
      "outputs": [
        {
          "output_type": "stream",
          "name": "stdout",
          "text": [
            "+-------+---------+--------------------+--------+-------------------+-----+-----------+--------------+\n",
            "|Invoice|StockCode|         Description|Quantity|        InvoiceDate|Price|Customer ID|       Country|\n",
            "+-------+---------+--------------------+--------+-------------------+-----+-----------+--------------+\n",
            "| 489434|    85048|15CM CHRISTMAS GL...|      12|2009-12-01 07:45:00| 6.95|    13085.0|United Kingdom|\n",
            "| 489434|   79323P|  PINK CHERRY LIGHTS|      12|2009-12-01 07:45:00| 6.75|    13085.0|United Kingdom|\n",
            "| 489434|   79323W| WHITE CHERRY LIGHTS|      12|2009-12-01 07:45:00| 6.75|    13085.0|United Kingdom|\n",
            "| 489434|    22041|\"RECORD FRAME 7\"\"...|      48|2009-12-01 07:45:00|  2.1|    13085.0|United Kingdom|\n",
            "| 489434|    21232|STRAWBERRY CERAMI...|      24|2009-12-01 07:45:00| 1.25|    13085.0|United Kingdom|\n",
            "| 489434|    22064|PINK DOUGHNUT TRI...|      24|2009-12-01 07:45:00| 1.65|    13085.0|United Kingdom|\n",
            "| 489434|    21871| SAVE THE PLANET MUG|      24|2009-12-01 07:45:00| 1.25|    13085.0|United Kingdom|\n",
            "| 489434|    21523|FANCY FONT HOME S...|      10|2009-12-01 07:45:00| 5.95|    13085.0|United Kingdom|\n",
            "| 489435|    22350|           CAT BOWL |      12|2009-12-01 07:46:00| 2.55|    13085.0|United Kingdom|\n",
            "| 489435|    22349|DOG BOWL , CHASIN...|      12|2009-12-01 07:46:00| 3.75|    13085.0|United Kingdom|\n",
            "| 489435|    22195|HEART MEASURING S...|      24|2009-12-01 07:46:00| 1.65|    13085.0|United Kingdom|\n",
            "| 489435|    22353|LUNCHBOX WITH CUT...|      12|2009-12-01 07:46:00| 2.55|    13085.0|United Kingdom|\n",
            "| 489436|   48173C|DOOR MAT BLACK FL...|      10|2009-12-01 09:06:00| 5.95|    13078.0|United Kingdom|\n",
            "| 489436|    21755|LOVE BUILDING BLO...|      18|2009-12-01 09:06:00| 5.45|    13078.0|United Kingdom|\n",
            "| 489436|    21754|HOME BUILDING BLO...|       3|2009-12-01 09:06:00| 5.95|    13078.0|United Kingdom|\n",
            "| 489436|    84879|ASSORTED COLOUR B...|      16|2009-12-01 09:06:00| 1.69|    13078.0|United Kingdom|\n",
            "| 489436|    22119| PEACE WOODEN BLO...|       3|2009-12-01 09:06:00| 6.95|    13078.0|United Kingdom|\n",
            "| 489436|    22142|CHRISTMAS CRAFT W...|      12|2009-12-01 09:06:00| 1.45|    13078.0|United Kingdom|\n",
            "| 489436|    22296|HEART IVORY TRELL...|      12|2009-12-01 09:06:00| 1.65|    13078.0|United Kingdom|\n",
            "| 489436|    22295|HEART FILIGREE DO...|      12|2009-12-01 09:06:00| 1.65|    13078.0|United Kingdom|\n",
            "+-------+---------+--------------------+--------+-------------------+-----+-----------+--------------+\n",
            "only showing top 20 rows\n",
            "\n"
          ]
        }
      ]
    },
    {
      "cell_type": "markdown",
      "source": [
        "### **3. Feature Engineering**\n"
      ],
      "metadata": {
        "id": "1X6eQ0HU5PWe"
      }
    },
    {
      "cell_type": "markdown",
      "source": [
        "#### a. Create a new column \"TotalPrice\" = Quantity * Price."
      ],
      "metadata": {
        "id": "OV1e1nk56XoC"
      }
    },
    {
      "cell_type": "code",
      "source": [
        "retail_df = retail_df.withColumn(\"TotalPrice\", col(\"Quantity\") * col(\"Price\"))\n",
        "retail_df.show()"
      ],
      "metadata": {
        "colab": {
          "base_uri": "https://localhost:8080/"
        },
        "id": "SDmhPRZq5kPl",
        "outputId": "42b51fee-2249-4592-84fd-0a0a4f1e1b97"
      },
      "execution_count": 119,
      "outputs": [
        {
          "output_type": "stream",
          "name": "stdout",
          "text": [
            "+-------+---------+--------------------+--------+-------------------+-----+-----------+--------------+------------------+\n",
            "|Invoice|StockCode|         Description|Quantity|        InvoiceDate|Price|Customer ID|       Country|        TotalPrice|\n",
            "+-------+---------+--------------------+--------+-------------------+-----+-----------+--------------+------------------+\n",
            "| 489434|    85048|15CM CHRISTMAS GL...|      12|2009-12-01 07:45:00| 6.95|    13085.0|United Kingdom|              83.4|\n",
            "| 489434|   79323P|  PINK CHERRY LIGHTS|      12|2009-12-01 07:45:00| 6.75|    13085.0|United Kingdom|              81.0|\n",
            "| 489434|   79323W| WHITE CHERRY LIGHTS|      12|2009-12-01 07:45:00| 6.75|    13085.0|United Kingdom|              81.0|\n",
            "| 489434|    22041|\"RECORD FRAME 7\"\"...|      48|2009-12-01 07:45:00|  2.1|    13085.0|United Kingdom|100.80000000000001|\n",
            "| 489434|    21232|STRAWBERRY CERAMI...|      24|2009-12-01 07:45:00| 1.25|    13085.0|United Kingdom|              30.0|\n",
            "| 489434|    22064|PINK DOUGHNUT TRI...|      24|2009-12-01 07:45:00| 1.65|    13085.0|United Kingdom|39.599999999999994|\n",
            "| 489434|    21871| SAVE THE PLANET MUG|      24|2009-12-01 07:45:00| 1.25|    13085.0|United Kingdom|              30.0|\n",
            "| 489434|    21523|FANCY FONT HOME S...|      10|2009-12-01 07:45:00| 5.95|    13085.0|United Kingdom|              59.5|\n",
            "| 489435|    22350|           CAT BOWL |      12|2009-12-01 07:46:00| 2.55|    13085.0|United Kingdom|30.599999999999998|\n",
            "| 489435|    22349|DOG BOWL , CHASIN...|      12|2009-12-01 07:46:00| 3.75|    13085.0|United Kingdom|              45.0|\n",
            "| 489435|    22195|HEART MEASURING S...|      24|2009-12-01 07:46:00| 1.65|    13085.0|United Kingdom|39.599999999999994|\n",
            "| 489435|    22353|LUNCHBOX WITH CUT...|      12|2009-12-01 07:46:00| 2.55|    13085.0|United Kingdom|30.599999999999998|\n",
            "| 489436|   48173C|DOOR MAT BLACK FL...|      10|2009-12-01 09:06:00| 5.95|    13078.0|United Kingdom|              59.5|\n",
            "| 489436|    21755|LOVE BUILDING BLO...|      18|2009-12-01 09:06:00| 5.45|    13078.0|United Kingdom| 98.10000000000001|\n",
            "| 489436|    21754|HOME BUILDING BLO...|       3|2009-12-01 09:06:00| 5.95|    13078.0|United Kingdom|             17.85|\n",
            "| 489436|    84879|ASSORTED COLOUR B...|      16|2009-12-01 09:06:00| 1.69|    13078.0|United Kingdom|             27.04|\n",
            "| 489436|    22119| PEACE WOODEN BLO...|       3|2009-12-01 09:06:00| 6.95|    13078.0|United Kingdom|             20.85|\n",
            "| 489436|    22142|CHRISTMAS CRAFT W...|      12|2009-12-01 09:06:00| 1.45|    13078.0|United Kingdom|              17.4|\n",
            "| 489436|    22296|HEART IVORY TRELL...|      12|2009-12-01 09:06:00| 1.65|    13078.0|United Kingdom|19.799999999999997|\n",
            "| 489436|    22295|HEART FILIGREE DO...|      12|2009-12-01 09:06:00| 1.65|    13078.0|United Kingdom|19.799999999999997|\n",
            "+-------+---------+--------------------+--------+-------------------+-----+-----------+--------------+------------------+\n",
            "only showing top 20 rows\n",
            "\n"
          ]
        }
      ]
    },
    {
      "cell_type": "markdown",
      "source": [
        "#### b. Extract \"Year\" and \"Month\" from InvoiceDate.\n"
      ],
      "metadata": {
        "id": "BjDUFo3p7niG"
      }
    },
    {
      "cell_type": "code",
      "source": [
        "retail_df = retail_df.withColumn(\"InvoiceYear\", year(col(\"InvoiceDate\"))) \\\n",
        "                                       .withColumn(\"InvoiceMonth\", month(col(\"InvoiceDate\")))\n",
        "retail_df.show()"
      ],
      "metadata": {
        "colab": {
          "base_uri": "https://localhost:8080/"
        },
        "id": "C6jAhJHh7PWl",
        "outputId": "b2f053f0-58ce-4f79-94b8-5aa785af0408"
      },
      "execution_count": 120,
      "outputs": [
        {
          "output_type": "stream",
          "name": "stdout",
          "text": [
            "+-------+---------+--------------------+--------+-------------------+-----+-----------+--------------+------------------+-----------+------------+\n",
            "|Invoice|StockCode|         Description|Quantity|        InvoiceDate|Price|Customer ID|       Country|        TotalPrice|InvoiceYear|InvoiceMonth|\n",
            "+-------+---------+--------------------+--------+-------------------+-----+-----------+--------------+------------------+-----------+------------+\n",
            "| 489434|    85048|15CM CHRISTMAS GL...|      12|2009-12-01 07:45:00| 6.95|    13085.0|United Kingdom|              83.4|       2009|          12|\n",
            "| 489434|   79323P|  PINK CHERRY LIGHTS|      12|2009-12-01 07:45:00| 6.75|    13085.0|United Kingdom|              81.0|       2009|          12|\n",
            "| 489434|   79323W| WHITE CHERRY LIGHTS|      12|2009-12-01 07:45:00| 6.75|    13085.0|United Kingdom|              81.0|       2009|          12|\n",
            "| 489434|    22041|\"RECORD FRAME 7\"\"...|      48|2009-12-01 07:45:00|  2.1|    13085.0|United Kingdom|100.80000000000001|       2009|          12|\n",
            "| 489434|    21232|STRAWBERRY CERAMI...|      24|2009-12-01 07:45:00| 1.25|    13085.0|United Kingdom|              30.0|       2009|          12|\n",
            "| 489434|    22064|PINK DOUGHNUT TRI...|      24|2009-12-01 07:45:00| 1.65|    13085.0|United Kingdom|39.599999999999994|       2009|          12|\n",
            "| 489434|    21871| SAVE THE PLANET MUG|      24|2009-12-01 07:45:00| 1.25|    13085.0|United Kingdom|              30.0|       2009|          12|\n",
            "| 489434|    21523|FANCY FONT HOME S...|      10|2009-12-01 07:45:00| 5.95|    13085.0|United Kingdom|              59.5|       2009|          12|\n",
            "| 489435|    22350|           CAT BOWL |      12|2009-12-01 07:46:00| 2.55|    13085.0|United Kingdom|30.599999999999998|       2009|          12|\n",
            "| 489435|    22349|DOG BOWL , CHASIN...|      12|2009-12-01 07:46:00| 3.75|    13085.0|United Kingdom|              45.0|       2009|          12|\n",
            "| 489435|    22195|HEART MEASURING S...|      24|2009-12-01 07:46:00| 1.65|    13085.0|United Kingdom|39.599999999999994|       2009|          12|\n",
            "| 489435|    22353|LUNCHBOX WITH CUT...|      12|2009-12-01 07:46:00| 2.55|    13085.0|United Kingdom|30.599999999999998|       2009|          12|\n",
            "| 489436|   48173C|DOOR MAT BLACK FL...|      10|2009-12-01 09:06:00| 5.95|    13078.0|United Kingdom|              59.5|       2009|          12|\n",
            "| 489436|    21755|LOVE BUILDING BLO...|      18|2009-12-01 09:06:00| 5.45|    13078.0|United Kingdom| 98.10000000000001|       2009|          12|\n",
            "| 489436|    21754|HOME BUILDING BLO...|       3|2009-12-01 09:06:00| 5.95|    13078.0|United Kingdom|             17.85|       2009|          12|\n",
            "| 489436|    84879|ASSORTED COLOUR B...|      16|2009-12-01 09:06:00| 1.69|    13078.0|United Kingdom|             27.04|       2009|          12|\n",
            "| 489436|    22119| PEACE WOODEN BLO...|       3|2009-12-01 09:06:00| 6.95|    13078.0|United Kingdom|             20.85|       2009|          12|\n",
            "| 489436|    22142|CHRISTMAS CRAFT W...|      12|2009-12-01 09:06:00| 1.45|    13078.0|United Kingdom|              17.4|       2009|          12|\n",
            "| 489436|    22296|HEART IVORY TRELL...|      12|2009-12-01 09:06:00| 1.65|    13078.0|United Kingdom|19.799999999999997|       2009|          12|\n",
            "| 489436|    22295|HEART FILIGREE DO...|      12|2009-12-01 09:06:00| 1.65|    13078.0|United Kingdom|19.799999999999997|       2009|          12|\n",
            "+-------+---------+--------------------+--------+-------------------+-----+-----------+--------------+------------------+-----------+------------+\n",
            "only showing top 20 rows\n",
            "\n"
          ]
        }
      ]
    },
    {
      "cell_type": "markdown",
      "source": [
        "### **4. Segmentation by Spend**"
      ],
      "metadata": {
        "id": "n62zogX88is2"
      }
    },
    {
      "cell_type": "markdown",
      "source": [
        " 4.1 Group by \"Customer ID\" and compute:\n",
        "\n",
        "1.   Total amount spent (sum(TotalPrice)).\n",
        "\n",
        "\n",
        "\n",
        "\n"
      ],
      "metadata": {
        "id": "VfFuHZDb9V9H"
      }
    },
    {
      "cell_type": "code",
      "source": [
        "from pyspark.sql.functions import sum, avg, count, min, max"
      ],
      "metadata": {
        "id": "2IumNrrm8A05"
      },
      "execution_count": 121,
      "outputs": []
    },
    {
      "cell_type": "code",
      "source": [
        "groupBy = retail_df.groupBy(\"Customer ID\").sum(\"TotalPrice\")\n",
        "groupBy.show()"
      ],
      "metadata": {
        "colab": {
          "base_uri": "https://localhost:8080/"
        },
        "id": "i-_3u3qp9IV2",
        "outputId": "4b2a2718-201c-4cc0-c584-5bd90e0a3700"
      },
      "execution_count": 122,
      "outputs": [
        {
          "output_type": "stream",
          "name": "stdout",
          "text": [
            "+-----------+--------------------+\n",
            "|Customer ID|     sum(TotalPrice)|\n",
            "+-----------+--------------------+\n",
            "|    17884.0|   3028.889999999997|\n",
            "|    14285.0|  3158.6400000000003|\n",
            "|    16822.0|  144.83999999999997|\n",
            "|    16596.0|   579.6300000000001|\n",
            "|    17072.0|              282.05|\n",
            "|    12671.0|   2622.481000000001|\n",
            "|    16981.0|            -4620.86|\n",
            "|    14452.0|              665.59|\n",
            "|    12737.0|              3710.5|\n",
            "|    15893.0|  305.28000000000003|\n",
            "|    14094.0|              334.27|\n",
            "|    14269.0|  261.68000000000006|\n",
            "|    12467.0|-2.13162820728030...|\n",
            "|    16916.0|              1123.4|\n",
            "|    13607.0|  1060.6099999999997|\n",
            "|    14024.0|              645.74|\n",
            "|    13094.0|             2214.66|\n",
            "|    17633.0|  1974.8899999999996|\n",
            "|    15846.0|  107.01000000000002|\n",
            "|    16656.0|  16307.720000000008|\n",
            "+-----------+--------------------+\n",
            "only showing top 20 rows\n",
            "\n"
          ]
        }
      ]
    },
    {
      "cell_type": "markdown",
      "source": [
        "2. Number of unique purchases (countDistinct(Invoice)).\n",
        "\n",
        "\n",
        "\n"
      ],
      "metadata": {
        "id": "gQfJ8_2p-vmx"
      }
    },
    {
      "cell_type": "code",
      "source": [
        "from pyspark.sql.functions import countDistinct\n",
        "\n",
        "retail_df.select(countDistinct(\"Invoice\")).show()"
      ],
      "metadata": {
        "colab": {
          "base_uri": "https://localhost:8080/"
        },
        "id": "Yw0sodR0-n10",
        "outputId": "17f4256e-0264-4f5b-8ba5-62406413bd6d"
      },
      "execution_count": 123,
      "outputs": [
        {
          "output_type": "stream",
          "name": "stdout",
          "text": [
            "+-----------------------+\n",
            "|count(DISTINCT Invoice)|\n",
            "+-----------------------+\n",
            "|                  44876|\n",
            "+-----------------------+\n",
            "\n"
          ]
        }
      ]
    },
    {
      "cell_type": "markdown",
      "source": [
        "#### 4.2 Create a new column \"SpendingCategory\":"
      ],
      "metadata": {
        "id": "4Jc0lfAL_WzO"
      }
    },
    {
      "cell_type": "markdown",
      "source": [
        "##### a. \"High\" if total spent ≥ 5000."
      ],
      "metadata": {
        "id": "VPPpA-Iu_abO"
      }
    },
    {
      "cell_type": "code",
      "source": [
        "retail_df= retail_df.withColumn(\"High\", retail_df[\"TotalPrice\"] >= 5000)\n",
        "retail_df.show()"
      ],
      "metadata": {
        "colab": {
          "base_uri": "https://localhost:8080/"
        },
        "id": "L4daOcWE_F04",
        "outputId": "dc848781-4cc1-4bfc-b2d9-f16e5e378546"
      },
      "execution_count": 125,
      "outputs": [
        {
          "output_type": "stream",
          "name": "stdout",
          "text": [
            "+-------+---------+--------------------+--------+-------------------+-----+-----------+--------------+------------------+-----------+------------+-----+\n",
            "|Invoice|StockCode|         Description|Quantity|        InvoiceDate|Price|Customer ID|       Country|        TotalPrice|InvoiceYear|InvoiceMonth| High|\n",
            "+-------+---------+--------------------+--------+-------------------+-----+-----------+--------------+------------------+-----------+------------+-----+\n",
            "| 489434|    85048|15CM CHRISTMAS GL...|      12|2009-12-01 07:45:00| 6.95|    13085.0|United Kingdom|              83.4|       2009|          12|false|\n",
            "| 489434|   79323P|  PINK CHERRY LIGHTS|      12|2009-12-01 07:45:00| 6.75|    13085.0|United Kingdom|              81.0|       2009|          12|false|\n",
            "| 489434|   79323W| WHITE CHERRY LIGHTS|      12|2009-12-01 07:45:00| 6.75|    13085.0|United Kingdom|              81.0|       2009|          12|false|\n",
            "| 489434|    22041|\"RECORD FRAME 7\"\"...|      48|2009-12-01 07:45:00|  2.1|    13085.0|United Kingdom|100.80000000000001|       2009|          12|false|\n",
            "| 489434|    21232|STRAWBERRY CERAMI...|      24|2009-12-01 07:45:00| 1.25|    13085.0|United Kingdom|              30.0|       2009|          12|false|\n",
            "| 489434|    22064|PINK DOUGHNUT TRI...|      24|2009-12-01 07:45:00| 1.65|    13085.0|United Kingdom|39.599999999999994|       2009|          12|false|\n",
            "| 489434|    21871| SAVE THE PLANET MUG|      24|2009-12-01 07:45:00| 1.25|    13085.0|United Kingdom|              30.0|       2009|          12|false|\n",
            "| 489434|    21523|FANCY FONT HOME S...|      10|2009-12-01 07:45:00| 5.95|    13085.0|United Kingdom|              59.5|       2009|          12|false|\n",
            "| 489435|    22350|           CAT BOWL |      12|2009-12-01 07:46:00| 2.55|    13085.0|United Kingdom|30.599999999999998|       2009|          12|false|\n",
            "| 489435|    22349|DOG BOWL , CHASIN...|      12|2009-12-01 07:46:00| 3.75|    13085.0|United Kingdom|              45.0|       2009|          12|false|\n",
            "| 489435|    22195|HEART MEASURING S...|      24|2009-12-01 07:46:00| 1.65|    13085.0|United Kingdom|39.599999999999994|       2009|          12|false|\n",
            "| 489435|    22353|LUNCHBOX WITH CUT...|      12|2009-12-01 07:46:00| 2.55|    13085.0|United Kingdom|30.599999999999998|       2009|          12|false|\n",
            "| 489436|   48173C|DOOR MAT BLACK FL...|      10|2009-12-01 09:06:00| 5.95|    13078.0|United Kingdom|              59.5|       2009|          12|false|\n",
            "| 489436|    21755|LOVE BUILDING BLO...|      18|2009-12-01 09:06:00| 5.45|    13078.0|United Kingdom| 98.10000000000001|       2009|          12|false|\n",
            "| 489436|    21754|HOME BUILDING BLO...|       3|2009-12-01 09:06:00| 5.95|    13078.0|United Kingdom|             17.85|       2009|          12|false|\n",
            "| 489436|    84879|ASSORTED COLOUR B...|      16|2009-12-01 09:06:00| 1.69|    13078.0|United Kingdom|             27.04|       2009|          12|false|\n",
            "| 489436|    22119| PEACE WOODEN BLO...|       3|2009-12-01 09:06:00| 6.95|    13078.0|United Kingdom|             20.85|       2009|          12|false|\n",
            "| 489436|    22142|CHRISTMAS CRAFT W...|      12|2009-12-01 09:06:00| 1.45|    13078.0|United Kingdom|              17.4|       2009|          12|false|\n",
            "| 489436|    22296|HEART IVORY TRELL...|      12|2009-12-01 09:06:00| 1.65|    13078.0|United Kingdom|19.799999999999997|       2009|          12|false|\n",
            "| 489436|    22295|HEART FILIGREE DO...|      12|2009-12-01 09:06:00| 1.65|    13078.0|United Kingdom|19.799999999999997|       2009|          12|false|\n",
            "+-------+---------+--------------------+--------+-------------------+-----+-----------+--------------+------------------+-----------+------------+-----+\n",
            "only showing top 20 rows\n",
            "\n"
          ]
        }
      ]
    },
    {
      "cell_type": "markdown",
      "source": [
        "##### b. \"Medium\" if total spent between 1000 and 4999."
      ],
      "metadata": {
        "id": "Udu-AyVwArY-"
      }
    },
    {
      "cell_type": "code",
      "source": [
        "retail_df= retail_df.withColumn(\"Medium\", (retail_df[\"TotalPrice\"] <= 4999) & \\\n",
        "                                        (retail_df[\"TotalPrice\"] >= 1000))\n",
        "retail_df.show()"
      ],
      "metadata": {
        "colab": {
          "base_uri": "https://localhost:8080/"
        },
        "id": "ryw-CUFoAnsW",
        "outputId": "b2e9a7b3-d441-4af5-bd2f-bd0b6c23ead2"
      },
      "execution_count": 129,
      "outputs": [
        {
          "output_type": "stream",
          "name": "stdout",
          "text": [
            "+-------+---------+--------------------+--------+-------------------+-----+-----------+--------------+------------------+-----------+------------+-----+------+\n",
            "|Invoice|StockCode|         Description|Quantity|        InvoiceDate|Price|Customer ID|       Country|        TotalPrice|InvoiceYear|InvoiceMonth| High|Medium|\n",
            "+-------+---------+--------------------+--------+-------------------+-----+-----------+--------------+------------------+-----------+------------+-----+------+\n",
            "| 489434|    85048|15CM CHRISTMAS GL...|      12|2009-12-01 07:45:00| 6.95|    13085.0|United Kingdom|              83.4|       2009|          12|false| false|\n",
            "| 489434|   79323P|  PINK CHERRY LIGHTS|      12|2009-12-01 07:45:00| 6.75|    13085.0|United Kingdom|              81.0|       2009|          12|false| false|\n",
            "| 489434|   79323W| WHITE CHERRY LIGHTS|      12|2009-12-01 07:45:00| 6.75|    13085.0|United Kingdom|              81.0|       2009|          12|false| false|\n",
            "| 489434|    22041|\"RECORD FRAME 7\"\"...|      48|2009-12-01 07:45:00|  2.1|    13085.0|United Kingdom|100.80000000000001|       2009|          12|false| false|\n",
            "| 489434|    21232|STRAWBERRY CERAMI...|      24|2009-12-01 07:45:00| 1.25|    13085.0|United Kingdom|              30.0|       2009|          12|false| false|\n",
            "| 489434|    22064|PINK DOUGHNUT TRI...|      24|2009-12-01 07:45:00| 1.65|    13085.0|United Kingdom|39.599999999999994|       2009|          12|false| false|\n",
            "| 489434|    21871| SAVE THE PLANET MUG|      24|2009-12-01 07:45:00| 1.25|    13085.0|United Kingdom|              30.0|       2009|          12|false| false|\n",
            "| 489434|    21523|FANCY FONT HOME S...|      10|2009-12-01 07:45:00| 5.95|    13085.0|United Kingdom|              59.5|       2009|          12|false| false|\n",
            "| 489435|    22350|           CAT BOWL |      12|2009-12-01 07:46:00| 2.55|    13085.0|United Kingdom|30.599999999999998|       2009|          12|false| false|\n",
            "| 489435|    22349|DOG BOWL , CHASIN...|      12|2009-12-01 07:46:00| 3.75|    13085.0|United Kingdom|              45.0|       2009|          12|false| false|\n",
            "| 489435|    22195|HEART MEASURING S...|      24|2009-12-01 07:46:00| 1.65|    13085.0|United Kingdom|39.599999999999994|       2009|          12|false| false|\n",
            "| 489435|    22353|LUNCHBOX WITH CUT...|      12|2009-12-01 07:46:00| 2.55|    13085.0|United Kingdom|30.599999999999998|       2009|          12|false| false|\n",
            "| 489436|   48173C|DOOR MAT BLACK FL...|      10|2009-12-01 09:06:00| 5.95|    13078.0|United Kingdom|              59.5|       2009|          12|false| false|\n",
            "| 489436|    21755|LOVE BUILDING BLO...|      18|2009-12-01 09:06:00| 5.45|    13078.0|United Kingdom| 98.10000000000001|       2009|          12|false| false|\n",
            "| 489436|    21754|HOME BUILDING BLO...|       3|2009-12-01 09:06:00| 5.95|    13078.0|United Kingdom|             17.85|       2009|          12|false| false|\n",
            "| 489436|    84879|ASSORTED COLOUR B...|      16|2009-12-01 09:06:00| 1.69|    13078.0|United Kingdom|             27.04|       2009|          12|false| false|\n",
            "| 489436|    22119| PEACE WOODEN BLO...|       3|2009-12-01 09:06:00| 6.95|    13078.0|United Kingdom|             20.85|       2009|          12|false| false|\n",
            "| 489436|    22142|CHRISTMAS CRAFT W...|      12|2009-12-01 09:06:00| 1.45|    13078.0|United Kingdom|              17.4|       2009|          12|false| false|\n",
            "| 489436|    22296|HEART IVORY TRELL...|      12|2009-12-01 09:06:00| 1.65|    13078.0|United Kingdom|19.799999999999997|       2009|          12|false| false|\n",
            "| 489436|    22295|HEART FILIGREE DO...|      12|2009-12-01 09:06:00| 1.65|    13078.0|United Kingdom|19.799999999999997|       2009|          12|false| false|\n",
            "+-------+---------+--------------------+--------+-------------------+-----+-----------+--------------+------------------+-----------+------------+-----+------+\n",
            "only showing top 20 rows\n",
            "\n"
          ]
        }
      ]
    },
    {
      "cell_type": "markdown",
      "source": [
        "#### c. \"Low\" if total spent < 1000."
      ],
      "metadata": {
        "id": "sGlKueuvBP-g"
      }
    },
    {
      "cell_type": "code",
      "source": [
        "retail_df= retail_df.withColumn(\"Low\", retail_df[\"TotalPrice\"] < 1000)\n",
        "retail_df.show()"
      ],
      "metadata": {
        "colab": {
          "base_uri": "https://localhost:8080/"
        },
        "id": "D8yHxHBlBNv3",
        "outputId": "423455df-c9d9-4454-c01d-f21c0a01cfea"
      },
      "execution_count": 130,
      "outputs": [
        {
          "output_type": "stream",
          "name": "stdout",
          "text": [
            "+-------+---------+--------------------+--------+-------------------+-----+-----------+--------------+------------------+-----------+------------+-----+------+----+\n",
            "|Invoice|StockCode|         Description|Quantity|        InvoiceDate|Price|Customer ID|       Country|        TotalPrice|InvoiceYear|InvoiceMonth| High|Medium| Low|\n",
            "+-------+---------+--------------------+--------+-------------------+-----+-----------+--------------+------------------+-----------+------------+-----+------+----+\n",
            "| 489434|    85048|15CM CHRISTMAS GL...|      12|2009-12-01 07:45:00| 6.95|    13085.0|United Kingdom|              83.4|       2009|          12|false| false|true|\n",
            "| 489434|   79323P|  PINK CHERRY LIGHTS|      12|2009-12-01 07:45:00| 6.75|    13085.0|United Kingdom|              81.0|       2009|          12|false| false|true|\n",
            "| 489434|   79323W| WHITE CHERRY LIGHTS|      12|2009-12-01 07:45:00| 6.75|    13085.0|United Kingdom|              81.0|       2009|          12|false| false|true|\n",
            "| 489434|    22041|\"RECORD FRAME 7\"\"...|      48|2009-12-01 07:45:00|  2.1|    13085.0|United Kingdom|100.80000000000001|       2009|          12|false| false|true|\n",
            "| 489434|    21232|STRAWBERRY CERAMI...|      24|2009-12-01 07:45:00| 1.25|    13085.0|United Kingdom|              30.0|       2009|          12|false| false|true|\n",
            "| 489434|    22064|PINK DOUGHNUT TRI...|      24|2009-12-01 07:45:00| 1.65|    13085.0|United Kingdom|39.599999999999994|       2009|          12|false| false|true|\n",
            "| 489434|    21871| SAVE THE PLANET MUG|      24|2009-12-01 07:45:00| 1.25|    13085.0|United Kingdom|              30.0|       2009|          12|false| false|true|\n",
            "| 489434|    21523|FANCY FONT HOME S...|      10|2009-12-01 07:45:00| 5.95|    13085.0|United Kingdom|              59.5|       2009|          12|false| false|true|\n",
            "| 489435|    22350|           CAT BOWL |      12|2009-12-01 07:46:00| 2.55|    13085.0|United Kingdom|30.599999999999998|       2009|          12|false| false|true|\n",
            "| 489435|    22349|DOG BOWL , CHASIN...|      12|2009-12-01 07:46:00| 3.75|    13085.0|United Kingdom|              45.0|       2009|          12|false| false|true|\n",
            "| 489435|    22195|HEART MEASURING S...|      24|2009-12-01 07:46:00| 1.65|    13085.0|United Kingdom|39.599999999999994|       2009|          12|false| false|true|\n",
            "| 489435|    22353|LUNCHBOX WITH CUT...|      12|2009-12-01 07:46:00| 2.55|    13085.0|United Kingdom|30.599999999999998|       2009|          12|false| false|true|\n",
            "| 489436|   48173C|DOOR MAT BLACK FL...|      10|2009-12-01 09:06:00| 5.95|    13078.0|United Kingdom|              59.5|       2009|          12|false| false|true|\n",
            "| 489436|    21755|LOVE BUILDING BLO...|      18|2009-12-01 09:06:00| 5.45|    13078.0|United Kingdom| 98.10000000000001|       2009|          12|false| false|true|\n",
            "| 489436|    21754|HOME BUILDING BLO...|       3|2009-12-01 09:06:00| 5.95|    13078.0|United Kingdom|             17.85|       2009|          12|false| false|true|\n",
            "| 489436|    84879|ASSORTED COLOUR B...|      16|2009-12-01 09:06:00| 1.69|    13078.0|United Kingdom|             27.04|       2009|          12|false| false|true|\n",
            "| 489436|    22119| PEACE WOODEN BLO...|       3|2009-12-01 09:06:00| 6.95|    13078.0|United Kingdom|             20.85|       2009|          12|false| false|true|\n",
            "| 489436|    22142|CHRISTMAS CRAFT W...|      12|2009-12-01 09:06:00| 1.45|    13078.0|United Kingdom|              17.4|       2009|          12|false| false|true|\n",
            "| 489436|    22296|HEART IVORY TRELL...|      12|2009-12-01 09:06:00| 1.65|    13078.0|United Kingdom|19.799999999999997|       2009|          12|false| false|true|\n",
            "| 489436|    22295|HEART FILIGREE DO...|      12|2009-12-01 09:06:00| 1.65|    13078.0|United Kingdom|19.799999999999997|       2009|          12|false| false|true|\n",
            "+-------+---------+--------------------+--------+-------------------+-----+-----------+--------------+------------------+-----------+------------+-----+------+----+\n",
            "only showing top 20 rows\n",
            "\n"
          ]
        }
      ]
    },
    {
      "cell_type": "markdown",
      "source": [
        "### **5. Top Products per Segment: For each \"SpendingCategory\", find the top 3 most purchased products (Description) based on total quantity sold.**"
      ],
      "metadata": {
        "id": "ijhTd44YBhQm"
      }
    },
    {
      "cell_type": "code",
      "source": [],
      "metadata": {
        "id": "vhDbQQLqBcOX"
      },
      "execution_count": null,
      "outputs": []
    }
  ]
}